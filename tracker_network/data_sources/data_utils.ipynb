{
 "cells": [
  {
   "cell_type": "code",
   "execution_count": 1,
   "id": "9ef08e02",
   "metadata": {},
   "outputs": [],
   "source": [
    "import sys\n",
    "sys.path.append(\"D:\\\\WETrak\")\n",
    "\n",
    "import os\n",
    "import os.path as path\n",
    "import numpy as np\n",
    "\n",
    "from scipy import interpolate\n",
    "from scipy.signal import savgol_filter\n",
    "from scipy.signal import iirfilter,lfilter\n",
    "\n",
    "os.environ['KMP_DUPLICATE_LIB_OK']='True'"
   ]
  },
  {
   "cell_type": "markdown",
   "id": "96c1fa55",
   "metadata": {},
   "source": [
    "## 1. Helper Function for GT"
   ]
  },
  {
   "cell_type": "markdown",
   "id": "6852e1c6",
   "metadata": {},
   "source": [
    "### 1.1 Load and Write of GT"
   ]
  },
  {
   "cell_type": "code",
   "execution_count": 2,
   "id": "066c1f70",
   "metadata": {},
   "outputs": [],
   "source": [
    "def parse_leap_all_finger(leap_data,finger_type_list):\n",
    "    # (one file)\n",
    "    pitch_yaw_values = []\n",
    "    for i,per_leap_data in enumerate(leap_data):\n",
    "        pitch_yaw_values_by_finger = []\n",
    "        if \"bone_angles\" not in per_leap_data[\"left_hand\"]:\n",
    "            continue\n",
    "            \n",
    "        for finger_keys in finger_type_list:\n",
    "            finger = per_leap_data[\"left_hand\"][\"bone_angles\"][finger_keys]\n",
    "            for bone_keys in [\"Distal\", \"Intermediate\", \"Proximal\"]:\n",
    "                pitch_yaw_values_by_finger.append(finger[bone_keys][\"Pitch\"])\n",
    "            pitch_yaw_values_by_finger.append(finger[\"Proximal\"][\"Yaw\"])\n",
    "    \n",
    "        pitch_yaw_values.append(pitch_yaw_values_by_finger)\n",
    "    \n",
    "    pitch_yaw_values = np.array(pitch_yaw_values)\n",
    "    new_pitch_yaw_values = pitch_yaw_values.reshape((pitch_yaw_values.shape[0],len(finger_type_list),4))\n",
    "    \n",
    "    return new_pitch_yaw_values"
   ]
  },
  {
   "cell_type": "code",
   "execution_count": 3,
   "id": "455f0009",
   "metadata": {},
   "outputs": [],
   "source": [
    "def compose_leap_all_finger(leap_data,finger_type_list):\n",
    "    result = []\n",
    "    for i in range(leap_data.shape[0]):\n",
    "        info = {}\n",
    "        info['left_hand'] = {}\n",
    "        info['left_hand']['bone_angles'] = {}\n",
    "        for j,finger_type in enumerate(finger_type_list):\n",
    "            info['left_hand']['bone_angles'][finger_type] = {}\n",
    "            for k,bone_keys in enumerate([\"Distal\",\"Intermediate\",\"Proximal\"]):\n",
    "                info['left_hand']['bone_angles'][finger_type][bone_keys] = {}\n",
    "                info['left_hand']['bone_angles'][finger_type][bone_keys]['Pitch'] = leap_data[i,j,k]\n",
    "                if bone_keys == \"Proximal\":\n",
    "                    info['left_hand']['bone_angles'][finger_type][bone_keys]['Yaw'] = leap_data[i,j,k+1]\n",
    "                    \n",
    "        result.append(info)\n",
    "    \n",
    "    return result"
   ]
  },
  {
   "cell_type": "markdown",
   "id": "81b8fc75",
   "metadata": {},
   "source": [
    "### 1.2 Transformation and Remove Outliers of GT"
   ]
  },
  {
   "cell_type": "code",
   "execution_count": 4,
   "id": "a4745d10",
   "metadata": {},
   "outputs": [],
   "source": [
    "def constraints_angle_by_finger(data,finger_type):\n",
    "    if finger_type == \"Thumb\":\n",
    "        start = [-35,-20,-40,-20]\n",
    "        end = [60,60,45,50]\n",
    "        \n",
    "    elif finger_type == \"Index\":\n",
    "        start = [-5,-3,-40,-30]\n",
    "        end = [90,110,90,30]\n",
    "        \n",
    "    elif finger_type == \"Middle\":\n",
    "        start = [-5,-3,-40,-22.5]\n",
    "        end = [90,110,90,22.5]\n",
    "        \n",
    "    elif finger_type == \"Ring\":\n",
    "        start = [-5,-3,-40,-22.5]\n",
    "        end = [90,120,90,22.5]\n",
    "    \n",
    "    elif finger_type == \"Pinky\":\n",
    "        start = [-5,-3,-40,-25]\n",
    "        end = [90,135,90,25]\n",
    "        \n",
    "    delta = -np.array(start)    \n",
    "    data += delta\n",
    "    removed_idx = []\n",
    "    \n",
    "    for i in [0,1,2,3]:\n",
    "        lower_bound = start[i] + delta[i]\n",
    "        upper_bound = end[i] + delta[i]\n",
    "                   \n",
    "        removed_idx += ((np.where((data[:,i] < lower_bound) | (data[:,i] > upper_bound))[0]).tolist())\n",
    "        \n",
    "    return data,removed_idx"
   ]
  },
  {
   "cell_type": "markdown",
   "id": "b53f3b0b",
   "metadata": {},
   "source": [
    "### 1.3 Interpolate of GT"
   ]
  },
  {
   "cell_type": "code",
   "execution_count": 5,
   "id": "a9a0f4bf",
   "metadata": {},
   "outputs": [],
   "source": [
    "def interpolate_leap_all_finger(leap_data,leap_length,emg_length):\n",
    "    x = np.linspace(0,leap_length-1,leap_length)\n",
    "    x_new = np.linspace(0,leap_length-1,emg_length)\n",
    "    kind = 'linear'\n",
    "    \n",
    "    new_data = np.zeros((emg_length,leap_data.shape[1],leap_data.shape[2]))\n",
    "    for dim in range(leap_data.shape[2]):\n",
    "        # Loop over each sample in this dimension\n",
    "        for sample in range(leap_data.shape[1]):\n",
    "            # Create interpolation function for this column/sample\n",
    "            f = interpolate.interp1d(x, leap_data[:,sample,dim], kind)\n",
    "            # Interpolate new values for this column/sample\n",
    "            new_data[:, sample, dim] = f(x_new)\n",
    "    \n",
    "    return new_data"
   ]
  },
  {
   "cell_type": "markdown",
   "id": "cc9785de",
   "metadata": {},
   "source": [
    "### 1.4 Smooth GT"
   ]
  },
  {
   "cell_type": "code",
   "execution_count": 6,
   "id": "21851256",
   "metadata": {},
   "outputs": [],
   "source": [
    "def default_min_max(finger_type):\n",
    "    if finger_type == \"Thumb\":\n",
    "        start = [-35,-20,-40,-20]\n",
    "        end = [60,60,45,50]\n",
    "        \n",
    "    elif finger_type == \"Index\":\n",
    "        start = [-5,-3,-40,-30]\n",
    "        end = [90,110,90,30]\n",
    "        \n",
    "    elif finger_type == \"Middle\":\n",
    "        start = [-5,-3,-40,-22.5]\n",
    "        end = [90,110,90,22.5]\n",
    "        \n",
    "    elif finger_type == \"Ring\":\n",
    "        start = [-5,-3,-40,-22.5]\n",
    "        end = [90,120,90,22.5]\n",
    "    \n",
    "    elif finger_type == \"Pinky\":\n",
    "        start = [-5,-3,-40,-25]\n",
    "        end = [90,135,90,25]\n",
    "        \n",
    "    delta = -np.array(start)    \n",
    "    min_vals = []\n",
    "    max_vals = []\n",
    "    for i in [0,1,2,3]:\n",
    "        lower_bound = start[i] + delta[i]\n",
    "        upper_bound = end[i] + delta[i]\n",
    "        \n",
    "        min_vals.append(lower_bound)\n",
    "        max_vals.append(upper_bound)\n",
    "    \n",
    "    return min_vals,max_vals"
   ]
  },
  {
   "cell_type": "code",
   "execution_count": 7,
   "id": "32131c60",
   "metadata": {},
   "outputs": [],
   "source": [
    "def smooth_gt(leap_data_list,finger_type_list):\n",
    "    min_vals_list = []\n",
    "    max_vals_list = []\n",
    "    for finger_type in finger_type_list:\n",
    "        min_vals,max_vals = default_min_max(finger_type)\n",
    "        min_vals_list += min_vals\n",
    "        max_vals_list += max_vals\n",
    "    max_vals_list = [x - 0.1 for x in max_vals_list] #为了让smooth后的值包括在default范围内\n",
    "    \n",
    "    new_leap_data_list = []\n",
    "    for idx,leap_data in enumerate(leap_data_list):    \n",
    "        smoothAngles = np.zeros_like(leap_data)\n",
    "        # window_length即窗口长度\n",
    "        # 取值为奇数且不能超过len(x)。\n",
    "        # 它越大，则平滑效果越明显；越小，则更贴近原始曲线。\n",
    "        # polyorder为多项式拟合的阶数。\n",
    "        # 它越小，则平滑效果越明显；越大，则更贴近原始曲线。\n",
    "        windowsize = 199\n",
    "        poly_deg = 6\n",
    "\n",
    "        for i in range(leap_data.shape[1]):\n",
    "            smoothAngles[:,i] = savgol_filter(leap_data[:,i], windowsize, poly_deg)\n",
    "        \n",
    "        smoothAngles = np.clip(smoothAngles, min_vals_list, max_vals_list)    \n",
    "        new_leap_data_list.append(smoothAngles)\n",
    "        \n",
    "    return new_leap_data_list"
   ]
  },
  {
   "cell_type": "markdown",
   "id": "34dbf052",
   "metadata": {},
   "source": [
    "### 1.5 Normalization of GT"
   ]
  },
  {
   "cell_type": "code",
   "execution_count": 8,
   "id": "3c592e9a",
   "metadata": {},
   "outputs": [],
   "source": [
    "def gt_normalize(leap_data_list,finger_type_list):\n",
    "    min_vals_list = []\n",
    "    max_vals_list = []\n",
    "    new_leap_data_list = []\n",
    "    \n",
    "    for leap_data in leap_data_list:\n",
    "        min_vals = np.min(leap_data, axis=0) #每一段2s数据的最小值\n",
    "        max_vals = np.max(leap_data, axis=0) #每一段2s数据的最大值\n",
    "        # 归一化后的leap data\n",
    "        new_leap_data = (leap_data - min_vals) / (max_vals - min_vals)\n",
    "        \n",
    "        min_vals_list.append(min_vals) #所有条数据的最小值\n",
    "        max_vals_list.append(max_vals) #所有条数据的最大值\n",
    "        new_leap_data_list.append(new_leap_data)\n",
    "    \n",
    "    return np.array(min_vals_list),np.array(max_vals_list),np.array(new_leap_data_list)"
   ]
  },
  {
   "cell_type": "markdown",
   "id": "9886526f",
   "metadata": {},
   "source": [
    "## 2. Helper function for EMG"
   ]
  },
  {
   "cell_type": "markdown",
   "id": "b9ca7014",
   "metadata": {},
   "source": [
    "### 2.1 Filter of EMG"
   ]
  },
  {
   "cell_type": "code",
   "execution_count": 9,
   "id": "1bc1cc83",
   "metadata": {},
   "outputs": [],
   "source": [
    "def Implement_Notch_Filter(time, band, freq, order, filter_type, data):\n",
    "    \n",
    "    fs   = 1/time\n",
    "    nyq  = fs/2.0\n",
    "    low  = freq - band/2.0\n",
    "    high = freq + band/2.0\n",
    "    low  = low/nyq\n",
    "    high = high/nyq\n",
    "    b, a = iirfilter(order, [low, high],  btype='bandstop',\n",
    "                     analog=False, ftype=filter_type)\n",
    "    filtered_data = lfilter(b, a, data)\n",
    "    \n",
    "    return filtered_data"
   ]
  },
  {
   "cell_type": "code",
   "execution_count": 10,
   "id": "5ce38d23",
   "metadata": {},
   "outputs": [],
   "source": [
    "def emg_z_norm(emg_data_list):\n",
    "    norm_emg_data_list = []\n",
    "    for emg_data_raw in emg_data_list:\n",
    "        norm_emg_data = []\n",
    "\n",
    "        for i in range(emg_data_raw.shape[1]):\n",
    "            emg_data = emg_data_raw[:,i]\n",
    "            # normalize z-score \n",
    "            mu = np.mean(emg_data,axis=0)\n",
    "            sigma = np.std(emg_data,axis=0)\n",
    "            emg_data = (emg_data - mu)/sigma\n",
    "\n",
    "            norm_emg_data.append(emg_data)\n",
    "        \n",
    "        norm_emg_data_list.append(np.array(norm_emg_data).T)\n",
    "    \n",
    "    return norm_emg_data_list"
   ]
  },
  {
   "cell_type": "markdown",
   "id": "78109a8f",
   "metadata": {},
   "source": [
    "## 3. Helper Function for Both GT and EMG"
   ]
  },
  {
   "cell_type": "markdown",
   "id": "9ca9ec04",
   "metadata": {},
   "source": [
    "### 3.1 Split Train and Test Datasets"
   ]
  },
  {
   "cell_type": "code",
   "execution_count": 11,
   "id": "875f2c0b",
   "metadata": {},
   "outputs": [],
   "source": [
    "def make_dir(d):\n",
    "    if not os.path.exists(d):\n",
    "        os.makedirs(d)\n",
    "    return d"
   ]
  },
  {
   "cell_type": "code",
   "execution_count": 12,
   "id": "88c0062e",
   "metadata": {},
   "outputs": [],
   "source": [
    "def split_data(emg_data,leap_data,split_length,train_ratio,val_ratio,test_ratio):\n",
    "    assert len(emg_data) == len(leap_data), \"The lengths of emg_data and leap_data are same.\"\n",
    "    \n",
    "    split_num = int(len(emg_data)/split_length)\n",
    "    \n",
    "    split_emg_data = np.split(emg_data[:split_num*split_length,:], [i for i in range(split_length,split_num*split_length,split_length)]) # list\n",
    "    split_leap_data = np.split(leap_data[:split_num*split_length,:], [i for i in range(split_length,split_num*split_length,split_length)]) \n",
    "    \n",
    "    total_samples = len(split_emg_data)\n",
    "    train_idx = int(total_samples * train_ratio)\n",
    "    val_idx = int(total_samples * (train_ratio + val_ratio))\n",
    "    \n",
    "    emg_train = split_emg_data[:train_idx]\n",
    "    leap_train = split_leap_data[:train_idx]\n",
    "\n",
    "    emg_val = split_emg_data[train_idx:val_idx]\n",
    "    leap_val = split_leap_data[train_idx:val_idx]\n",
    "\n",
    "    emg_test = split_emg_data[val_idx:]\n",
    "    leap_test = split_leap_data[val_idx:]\n",
    "    \n",
    "    if val_ratio == 0:\n",
    "        return emg_train,leap_train,emg_test,leap_test\n",
    "    else:\n",
    "        return emg_train,leap_train,emg_val,leap_val,emg_test,leap_test"
   ]
  }
 ],
 "metadata": {
  "kernelspec": {
   "display_name": "Python 3 (ipykernel)",
   "language": "python",
   "name": "python3"
  },
  "language_info": {
   "codemirror_mode": {
    "name": "ipython",
    "version": 3
   },
   "file_extension": ".py",
   "mimetype": "text/x-python",
   "name": "python",
   "nbconvert_exporter": "python",
   "pygments_lexer": "ipython3",
   "version": "3.8.13"
  }
 },
 "nbformat": 4,
 "nbformat_minor": 5
}
