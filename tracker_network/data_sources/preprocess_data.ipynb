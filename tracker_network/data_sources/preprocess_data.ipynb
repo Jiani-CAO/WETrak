{
 "cells": [
  {
   "cell_type": "markdown",
   "id": "cbbea2b4",
   "metadata": {},
   "source": [
    "## 0. Import Library"
   ]
  },
  {
   "cell_type": "code",
   "execution_count": 1,
   "id": "d6232a3b",
   "metadata": {},
   "outputs": [
    {
     "name": "stdout",
     "output_type": "stream",
     "text": [
      "importing Jupyter notebook from D:\\WETrak\\tracker_network\\data_sources\\data_utils.ipynb\n"
     ]
    }
   ],
   "source": [
    "import sys\n",
    "sys.path.append(\"D:\\\\WETrak\")\n",
    "\n",
    "import numpy as np\n",
    "import os\n",
    "import configparser\n",
    "import os.path as path\n",
    "import pandas as pd\n",
    "import json\n",
    "import csv\n",
    "from glob import glob\n",
    "from scipy import signal\n",
    "\n",
    "import import_ipynb\n",
    "import tracker_network.data_sources.data_utils as data_utils"
   ]
  },
  {
   "cell_type": "markdown",
   "id": "3041b73e",
   "metadata": {},
   "source": [
    "## 1. Transformation and remove outliers of GT"
   ]
  },
  {
   "cell_type": "code",
   "execution_count": 2,
   "id": "f539c727",
   "metadata": {},
   "outputs": [],
   "source": [
    "def remove_main(p_root,user_name,number_list):\n",
    "    print(\"---------------remove_main--------------\")\n",
    "    finger_type_list = [\"Thumb\",\"Index\",\"Middle\",\"Ring\",\"Pinky\"]\n",
    "    \n",
    "    # Load data\n",
    "    for number in number_list:\n",
    "#         print(\"number\",number)\n",
    "        p_path = path.join(p_root,user_name,\"data\",number)\n",
    "        \n",
    "        # 读取json文件\n",
    "        leap_data = json.load(open(path.join(p_path,\"leap_data.json\"),mode='r', encoding='utf-8'))\n",
    "        \n",
    "        # 读取所有手指的角度 (rad) [N,5,4]\n",
    "        rad_angles = data_utils.parse_leap_all_finger(leap_data,finger_type_list)\n",
    "        \n",
    "        # 转换角度 rad -> degree, 平铺时候角度为0\n",
    "        degree_angles = np.degrees(rad_angles)\n",
    "        trans_degree_angles = np.where(degree_angles > 0, 180 - degree_angles, -180 - degree_angles)\n",
    "        \n",
    "        # 限制角度范围（>0）,去除范围之外的角度\n",
    "        finger_angle = []\n",
    "        removed_idx = []\n",
    "        for i,finger_type in enumerate(finger_type_list):\n",
    "            per_finger_angle, per_finger_removed_idx = data_utils.constraints_angle_by_finger(trans_degree_angles[:,i,:],finger_type)\n",
    "            finger_angle.append(per_finger_angle)\n",
    "            removed_idx += per_finger_removed_idx\n",
    "        \n",
    "        positive_finger_angle = np.stack(finger_angle, axis=1)\n",
    "        removed_idx = list(set(removed_idx))\n",
    "#         print(\"len(removed_idx)\",len(removed_idx))\n",
    "\n",
    "        new_finger_angle = np.delete(positive_finger_angle,removed_idx,axis=0)\n",
    "        \n",
    "        # 将新的角度值写入leap_data_pre.json\"\n",
    "        result = data_utils.compose_leap_all_finger(new_finger_angle,finger_type_list)\n",
    "\n",
    "#         print(\"len(result)\",len(result))\n",
    "        leap_file = open(path.join(p_path,\"leap_data_processed.json\"), 'w')\n",
    "        json.dump(result, leap_file, sort_keys=False, indent=4, separators=(',', ':'))\n",
    "        leap_file.close()"
   ]
  },
  {
   "cell_type": "markdown",
   "id": "212c2fba",
   "metadata": {},
   "source": [
    "## 2. Interpolation"
   ]
  },
  {
   "cell_type": "code",
   "execution_count": 3,
   "id": "accb93ac",
   "metadata": {},
   "outputs": [],
   "source": [
    "def interpolate_main(p_root,user_name,number_list):\n",
    "    print(\"---------------interpolate_main--------------\")\n",
    "    finger_type_list = [\"Thumb\",\"Index\",\"Middle\",\"Ring\",\"Pinky\"]\n",
    "    \n",
    "    # Raw data need to be interpolated\n",
    "    for number in number_list:\n",
    "#         print(\"number\",number)\n",
    "        p_path = path.join(p_root,user_name,\"data\",number)\n",
    "\n",
    "        emg_data = pd.read_csv(path.join(p_path,\"emg_data.csv\"),header=None)\n",
    "        emg_length = len(emg_data)\n",
    "#         print(\"emg_length\",emg_length)\n",
    "\n",
    "        # 一次性读取所有手指的角度\n",
    "        leap_data = json.load(open(path.join(p_path,\"leap_data_processed.json\"),mode='r', encoding='utf-8'))\n",
    "        leap_data = data_utils.parse_leap_all_finger(leap_data,finger_type_list)\n",
    "        leap_length = len(leap_data)\n",
    "#         print(\"leap_length\",leap_length)\n",
    "        \n",
    "        # 一次性插值所有手指的角度\n",
    "        new_leap_data = data_utils.interpolate_leap_all_finger(leap_data,leap_length,emg_length)\n",
    "        \n",
    "        # 将新的角度值写入\"leap_data_processed.json\"\n",
    "        result = data_utils.compose_leap_all_finger(new_leap_data,finger_type_list)\n",
    "\n",
    "#         print(\"len(result)\",len(result))\n",
    "        leap_file = open(path.join(p_path,\"leap_data_processed.json\"), 'w')\n",
    "        json.dump(result, leap_file, sort_keys=False, indent=4, separators=(',', ':'))\n",
    "        leap_file.close()\n",
    "\n",
    "#         print(\"Data interpolation complete!\")"
   ]
  },
  {
   "cell_type": "markdown",
   "id": "a43cf1a4",
   "metadata": {},
   "source": [
    "## 3. Split train and test data sets"
   ]
  },
  {
   "cell_type": "code",
   "execution_count": 4,
   "id": "bc899a2b",
   "metadata": {
    "scrolled": true
   },
   "outputs": [],
   "source": [
    "def split_data_main(p_root,user_name,number_list,split_length,train_ratio,val_ratio,test_ratio):\n",
    "    print(\"---------------split_data_main--------------\")\n",
    "    finger_type_list = [\"Thumb\",\"Index\",\"Middle\",\"Ring\",\"Pinky\"]\n",
    "    \n",
    "    assert train_ratio + val_ratio + test_ratio == 1, \"The sum of the ratios must be equal to 1.\"\n",
    "    \n",
    "    emg_train_list = []\n",
    "    emg_f_train_list = []\n",
    "    leap_train_list = []\n",
    "    \n",
    "    emg_test_list = []\n",
    "    emg_f_test_list = []\n",
    "    leap_test_list = []\n",
    "\n",
    "    for number in number_list:\n",
    "#         print(\"number\",number)\n",
    "        p_path = path.join(p_root,user_name,\"data\",number)\n",
    "\n",
    "        emg_data = np.array(pd.read_csv(path.join(p_path,\"emg_data.csv\"),header=None))\n",
    "        leap_data = json.load(open(path.join(p_path,\"leap_data_processed.json\"),mode='r', encoding='utf-8'))\n",
    "        leap_data = data_utils.parse_leap_all_finger(leap_data,finger_type_list)\n",
    "\n",
    "        emg_train,leap_train,emg_test,leap_test = data_utils.split_data(emg_data,leap_data,split_length,train_ratio,val_ratio,test_ratio)\n",
    "        \n",
    "        emg_train_list += emg_train\n",
    "        leap_train_list += leap_train\n",
    "\n",
    "        emg_test_list += emg_test\n",
    "        leap_test_list += leap_test\n",
    "\n",
    "#         print(\"len(emg_train_list)\",len(emg_train_list))\n",
    "#         print(\"len(leap_train_list)\",len(leap_train_list))\n",
    "\n",
    "#         print(\"len(emg_test_list)\",len(emg_test_list))\n",
    "#         print(\"len(leap_test_list)\",len(leap_test_list))\n",
    "\n",
    "    for i in range(len(emg_train_list)):\n",
    "        p_dest = path.join(p_root,user_name,\"train\",\"{:05}\".format(i+1))\n",
    "        data_utils.make_dir(p_dest)\n",
    "\n",
    "        # write emg_train_data\n",
    "        np.savetxt(path.join(p_dest,\"emg_data.csv\"),emg_train_list[i],delimiter=',',fmt='%.6f')\n",
    "\n",
    "        # write leap_train_data\n",
    "        result = data_utils.compose_leap_all_finger(leap_train_list[i],finger_type_list)\n",
    "        leap_file = open(path.join(p_dest,\"leap_data_processed.json\"), 'w')\n",
    "        json.dump(result, leap_file, sort_keys=False, indent=4, separators=(',', ':'))\n",
    "        leap_file.close()\n",
    "\n",
    "    for i in range(len(emg_test_list)):\n",
    "        p_dest = path.join(p_root,user_name,\"test\",\"{:05}\".format(i+1))\n",
    "        data_utils.make_dir(p_dest)\n",
    "\n",
    "        # write emg_test_data\n",
    "        np.savetxt(path.join(p_dest,\"emg_data.csv\"),emg_test_list[i],delimiter=',',fmt='%.6f')\n",
    "\n",
    "        # write leap_test_data\n",
    "        result = data_utils.compose_leap_all_finger(leap_test_list[i],finger_type_list)\n",
    "        leap_file = open(path.join(p_dest,\"leap_data_processed.json\"), 'w')\n",
    "        json.dump(result, leap_file, sort_keys=False, indent=4, separators=(',', ':'))\n",
    "        leap_file.close()"
   ]
  },
  {
   "cell_type": "markdown",
   "id": "978d3b78",
   "metadata": {},
   "source": [
    "## 4. EMG Processing "
   ]
  },
  {
   "cell_type": "code",
   "execution_count": 5,
   "id": "04c48ee5",
   "metadata": {},
   "outputs": [],
   "source": [
    "def emg_pre_main(p_root,user_name):\n",
    "    print(\"---------------emg_pre_main--------------\")\n",
    "    # sampling rate\n",
    "    sr = 500.0\n",
    "    # sampling interval\n",
    "    ts = 1.0/sr\n",
    "    \n",
    "    low_Hz = 20\n",
    "    high_Hz = 150\n",
    "    w1 = 2*low_Hz/sr\n",
    "    w2 = 2*high_Hz/sr\n",
    "    \n",
    "    for split in [\"train\",\"test\"]:\n",
    "        p_split = path.join(p_root,user_name,split)\n",
    "        files = glob(path.join(p_split,'*'))\n",
    "\n",
    "        for file_path in files:\n",
    "#             print(file_path)\n",
    "            emg_data_raw = pd.read_csv(path.join(file_path,\"emg_data.csv\"),header=None).to_numpy()\n",
    "            emg_data_raw = np.nan_to_num(emg_data_raw, nan=0)\n",
    "            \n",
    "            filted_emg_data_list = []\n",
    "\n",
    "            for i in range(emg_data_raw.shape[1]):\n",
    "                emg_data = emg_data_raw[:,i]\n",
    "\n",
    "                # remove DC (Direct current)\n",
    "                emg_data = emg_data - np.mean(emg_data)\n",
    "                \n",
    "                # low high anti-notch filter\n",
    "                b, a = signal.butter(2, [w1,w2], 'bandpass')\n",
    "                emg_data = signal.filtfilt(b, a, emg_data)\n",
    "                emg_data = data_utils.Implement_Notch_Filter(ts,5,50,4,'butter',emg_data)\n",
    "                \n",
    "                filted_emg_data_list.append(emg_data)\n",
    "\n",
    "            emg_filtered = pd.DataFrame(np.array(filted_emg_data_list).T)\n",
    "            emg_filtered.to_csv(path.join(file_path,\"emg_filtered.csv\"),header=None, index=None)"
   ]
  },
  {
   "cell_type": "markdown",
   "id": "04870312",
   "metadata": {},
   "source": [
    "## 5. Tragger"
   ]
  },
  {
   "cell_type": "code",
   "execution_count": 6,
   "id": "f88ac0f1",
   "metadata": {},
   "outputs": [],
   "source": [
    "def preprocess_data(p_root,user_name):\n",
    "    \n",
    "    number_list = [str(i) for i in range(1, 23)]\n",
    "    \n",
    "    split_length = 1000\n",
    "    train_ratio = 0.8\n",
    "    val_ratio = 0.0\n",
    "    test_ratio = 0.2\n",
    "    \n",
    "    # step 1,2,3,4\n",
    "    remove_main(p_root,user_name,number_list)\n",
    "    interpolate_main(p_root,user_name,number_list)\n",
    "    split_data_main(p_root,user_name,number_list,split_length,train_ratio,val_ratio,test_ratio)\n",
    "    emg_pre_main(p_root,user_name)\n",
    "        \n",
    "    print(\"Done\")"
   ]
  },
  {
   "cell_type": "code",
   "execution_count": null,
   "id": "f7028c02",
   "metadata": {},
   "outputs": [],
   "source": [
    "# if __name__ == \"__main__\":\n",
    "#     # Read configuration\n",
    "#     config = configparser.ConfigParser()\n",
    "#     config.read('D:\\\\WETrak\\\\config.ini')\n",
    "    \n",
    "#     p_root = config['main']['data_path']\n",
    "#     user_name = \"user1\"\n",
    "    \n",
    "#     preprocess_data(p_root,user_name)"
   ]
  }
 ],
 "metadata": {
  "kernelspec": {
   "display_name": "Python 3 (ipykernel)",
   "language": "python",
   "name": "python3"
  },
  "language_info": {
   "codemirror_mode": {
    "name": "ipython",
    "version": 3
   },
   "file_extension": ".py",
   "mimetype": "text/x-python",
   "name": "python",
   "nbconvert_exporter": "python",
   "pygments_lexer": "ipython3",
   "version": "3.8.13"
  }
 },
 "nbformat": 4,
 "nbformat_minor": 5
}
