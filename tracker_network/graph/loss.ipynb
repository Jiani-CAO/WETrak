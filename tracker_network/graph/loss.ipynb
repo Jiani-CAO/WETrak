{
 "cells": [
  {
   "cell_type": "code",
   "execution_count": 1,
   "id": "c084bfb4",
   "metadata": {},
   "outputs": [],
   "source": [
    "import sys\n",
    "sys.path.append(\"D:\\\\WETrak\")\n",
    "\n",
    "import numpy as np\n",
    "import torch\n",
    "import torch.nn as nn"
   ]
  },
  {
   "cell_type": "markdown",
   "id": "7a10d33e",
   "metadata": {},
   "source": [
    "## 1. Mse Loss"
   ]
  },
  {
   "cell_type": "code",
   "execution_count": 2,
   "id": "200216a0",
   "metadata": {},
   "outputs": [],
   "source": [
    "def mse_loss(y_pred, y_true):\n",
    "    \n",
    "    loss_mse = torch.mean((y_pred - y_true) ** 2)\n",
    "    \n",
    "    CosSim = nn.CosineSimilarity(dim=3, eps=1e-6)\n",
    "    loss_cosine_similarity = 1 - torch.mean(torch.mean(CosSim(y_pred, y_true), axis=2))\n",
    "    \n",
    "    total_loss = loss_mse + loss_cosine_similarity\n",
    "    \n",
    "    return total_loss"
   ]
  }
 ],
 "metadata": {
  "kernelspec": {
   "display_name": "Python 3 (ipykernel)",
   "language": "python",
   "name": "python3"
  },
  "language_info": {
   "codemirror_mode": {
    "name": "ipython",
    "version": 3
   },
   "file_extension": ".py",
   "mimetype": "text/x-python",
   "name": "python",
   "nbconvert_exporter": "python",
   "pygments_lexer": "ipython3",
   "version": "3.8.13"
  }
 },
 "nbformat": 4,
 "nbformat_minor": 5
}
