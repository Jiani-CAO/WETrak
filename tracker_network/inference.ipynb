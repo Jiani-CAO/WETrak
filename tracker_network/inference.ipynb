{
 "cells": [
  {
   "cell_type": "code",
   "execution_count": 1,
   "id": "37c3b2e2",
   "metadata": {},
   "outputs": [
    {
     "name": "stdout",
     "output_type": "stream",
     "text": [
      "importing Jupyter notebook from D:\\WETrak\\tracker_network\\utils\\model_utils.ipynb\n",
      "importing Jupyter notebook from D:\\WETrak\\tracker_network\\graph\\network.ipynb\n",
      "importing Jupyter notebook from D:\\WETrak\\tracker_network\\data_sources\\finger_data.ipynb\n",
      "importing Jupyter notebook from D:\\WETrak\\tracker_network\\data_sources\\data_utils.ipynb\n",
      "importing Jupyter notebook from D:\\WETrak\\branch_adapter\\regression\\regression_inference.ipynb\n",
      "importing Jupyter notebook from D:\\WETrak\\branch_adapter\\regression\\regression_model_utils.ipynb\n",
      "importing Jupyter notebook from D:\\WETrak\\branch_adapter\\regression\\regression_network.ipynb\n",
      "importing Jupyter notebook from D:\\WETrak\\branch_adapter\\regression\\regression_data.ipynb\n",
      "importing Jupyter notebook from D:\\WETrak\\branch_adapter\\regression\\regression_data_utils.ipynb\n",
      "importing Jupyter notebook from D:\\WETrak\\branch_adapter\\classification\\classification_cascade_inference.ipynb\n",
      "importing Jupyter notebook from D:\\WETrak\\branch_adapter\\classification\\classification_network.ipynb\n",
      "importing Jupyter notebook from D:\\WETrak\\branch_adapter\\classification\\classification_data.ipynb\n",
      "importing Jupyter notebook from D:\\WETrak\\branch_adapter\\classification\\classification_data_utils.ipynb\n",
      "importing Jupyter notebook from D:\\WETrak\\branch_adapter\\classification\\classification_model_utils.ipynb\n"
     ]
    }
   ],
   "source": [
    "import sys\n",
    "sys.path.append(\"D:\\\\WETrak\")\n",
    "\n",
    "import os\n",
    "import configparser\n",
    "import torch\n",
    "from torch.utils.data import DataLoader\n",
    "\n",
    "import import_ipynb\n",
    "import tracker_network.utils.model_utils as utils\n",
    "from tracker_network.graph.network import Autoencoder\n",
    "from tracker_network.data_sources.finger_data import finger_data_15,finger_data_234\n",
    "\n",
    "os.environ['KMP_DUPLICATE_LIB_OK']='True'"
   ]
  },
  {
   "cell_type": "code",
   "execution_count": 2,
   "id": "b59d5c96",
   "metadata": {},
   "outputs": [],
   "source": [
    "def inference_15(model,test_loader,finger_type_list):\n",
    "    with torch.no_grad():\n",
    "        model.eval()\n",
    "        \n",
    "        for length,finger_type in enumerate(finger_type_list): \n",
    "            maes = utils.AverageMeter()\n",
    "            \n",
    "            for i,(emg,gt) in enumerate(test_loader):\n",
    "                emg = utils.data_gpu(emg, device) # [1,1,1000,2]\n",
    "                gt = utils.data_gpu(gt, device) # [1,1,1000,4]\n",
    "                \n",
    "                out = model(emg) # [1,1,1000,4]\n",
    "                out_temp = out[:,:,:,length*4:(length+1)*4]\n",
    "                gt_temp = gt[:,:,:,length*4:(length+1)*4]\n",
    "                \n",
    "                mae = utils.mean_absolute_error(gt_temp, out_temp)\n",
    "                maes.update(mae.item())\n",
    "\n",
    "            print(\"Tracking error of {} is: {} degree\".format(finger_type,maes.median()))"
   ]
  },
  {
   "cell_type": "code",
   "execution_count": 3,
   "id": "1b423f25",
   "metadata": {},
   "outputs": [],
   "source": [
    "def inference_234(model,test_loader,finger_type_list):\n",
    "    with torch.no_grad():\n",
    "        model.eval()\n",
    "        \n",
    "        for length,finger_type in enumerate(finger_type_list): \n",
    "            maes = utils.AverageMeter()\n",
    "            \n",
    "            for i,(emg,gt,min_val,max_val) in enumerate(test_loader):\n",
    "#                 print(\"i\",i+1)\n",
    "                emg = utils.data_gpu(emg, device)\n",
    "                gt = utils.data_gpu(gt, device) \n",
    "                \n",
    "                out = model(emg) \n",
    "                # re-normalize\n",
    "                out = out.cpu() * (max_val-min_val)+min_val\n",
    "                out = utils.data_gpu(out, device)\n",
    "                \n",
    "                # log errors values\n",
    "                out_temp = out[:,:,:,length*4:(length+1)*4]\n",
    "                gt_temp = gt[:,:,:,length*4:(length+1)*4]\n",
    "                \n",
    "                mae = utils.mean_absolute_error(gt_temp, out_temp)\n",
    "                maes.update(mae.item())\n",
    "\n",
    "            print(\"Tracking error of {} is: {} degree\".format(finger_type,maes.median()))"
   ]
  },
  {
   "cell_type": "code",
   "execution_count": 4,
   "id": "2f6b52b2",
   "metadata": {
    "scrolled": true
   },
   "outputs": [],
   "source": [
    "def main(user_name,finger_type_list,config,classify_num=None):    \n",
    "    data_path = config['main']['data_path']\n",
    "    output_path = config['main']['output_path']\n",
    "    \n",
    "    if finger_type_list == [\"Thumb\"]:\n",
    "        is_norm = False\n",
    "        file_name = \"Thumb\"\n",
    "    elif finger_type_list == [\"Pinky\"]:\n",
    "        is_norm = False\n",
    "        file_name = \"Pinky\"\n",
    "    elif finger_type_list == ['Index','Middle','Ring']:\n",
    "        is_norm = True\n",
    "        inference_mode = True\n",
    "        file_name = \"Others\"\n",
    "\n",
    "    # -------------------------------------Save Dir initialization----------------------------------------------------- #\n",
    "    runs_dir = os.path.join(output_path, user_name, file_name)\n",
    "    checkpoint_dir = os.path.join(runs_dir, 'checkpoints')\n",
    "    print(\"load {} checkpoingts from {}\".format(file_name,os.path.abspath(checkpoint_dir)))\n",
    "\n",
    "    # -------------------------------------Gpu Device && Tensorboard--------------------------------------------------- #\n",
    "    global device\n",
    "    device = torch.device(\"cuda\") if torch.cuda.is_available() else torch.device(\"cpu\")\n",
    "\n",
    "    # -------------------------------------Model and Optim Initialize-------------------------------------------------- #\n",
    "    model = Autoencoder(finger_type_list,is_norm).cuda()\n",
    "\n",
    "    # -------------------------------------Data Initialize--------------------------------------------------- #\n",
    "    if len(finger_type_list) == 1:\n",
    "        test_set = finger_data_15(data_path, user_name, \"test\", finger_type_list)\n",
    "    else:\n",
    "        test_set = finger_data_234(data_path, user_name, \"test\", finger_type_list,classify_num,inference_mode,output_path)\n",
    "    \n",
    "    test_loader = DataLoader(test_set,batch_size = 1, shuffle = False)\n",
    "    \n",
    "    # -------------------------------------Inference--------------------------------------------------- #\n",
    "    checkpoint = utils.load_checkpoint(os.path.join(checkpoint_dir),\"median\")\n",
    "    model.load_state_dict(checkpoint['model_state_dict'])\n",
    "\n",
    "    if len(finger_type_list) == 1:\n",
    "        inference_15(model,test_loader,finger_type_list)\n",
    "    else:\n",
    "        inference_234(model,test_loader,finger_type_list)"
   ]
  },
  {
   "cell_type": "code",
   "execution_count": 5,
   "id": "567246e3",
   "metadata": {
    "scrolled": true
   },
   "outputs": [
    {
     "name": "stdout",
     "output_type": "stream",
     "text": [
      "load Thumb checkpoingts from D:\\WETrak\\Outputs\\user1\\Thumb\\checkpoints\n",
      "Tracking error of Thumb is: 3.922192692756653 degree\n"
     ]
    }
   ],
   "source": [
    "# Read configuration\n",
    "config = configparser.ConfigParser()\n",
    "config.read('D:\\\\WETrak\\\\config.ini')\n",
    "\n",
    "user_name = \"user1\"\n",
    "finger_type_list = ['Thumb']\n",
    "main(user_name,finger_type_list,config)"
   ]
  },
  {
   "cell_type": "code",
   "execution_count": 6,
   "id": "886ac6c1",
   "metadata": {},
   "outputs": [
    {
     "name": "stdout",
     "output_type": "stream",
     "text": [
      "load Pinky checkpoingts from D:\\WETrak\\Outputs\\user1\\Pinky\\checkpoints\n",
      "Tracking error of Pinky is: 3.9536795616149902 degree\n"
     ]
    }
   ],
   "source": [
    "user_name = \"user1\"\n",
    "finger_type_list = ['Pinky']\n",
    "main(user_name,finger_type_list,config)"
   ]
  },
  {
   "cell_type": "code",
   "execution_count": 7,
   "id": "ea6556a5",
   "metadata": {},
   "outputs": [
    {
     "name": "stdout",
     "output_type": "stream",
     "text": [
      "load Others checkpoingts from D:\\WETrak\\Outputs\\user1\\Others\\checkpoints\n",
      "load regression checkpoingts from D:\\WETrak\\Outputs\\user1\\regression\\15\\checkpoints\n",
      "load classification checkpoingts from D:\\WETrak\\Outputs\\user1\\classify\\15\\checkpoints\n",
      "load classification checkpoingts from D:\\WETrak\\Outputs\\user1\\classify\\5\\checkpoints\n",
      "load classification checkpoingts from D:\\WETrak\\Outputs\\user1\\classify\\3\\checkpoints\n",
      "Tracking error of Index is: 5.552586078643799 degree\n",
      "Tracking error of Middle is: 5.982937574386597 degree\n",
      "Tracking error of Ring is: 5.38001012802124 degree\n"
     ]
    }
   ],
   "source": [
    "user_name = \"user1\"\n",
    "classify_num = 15\n",
    "finger_type_list = ['Index','Middle','Ring']\n",
    "\n",
    "main(user_name,finger_type_list,config,classify_num)"
   ]
  },
  {
   "cell_type": "code",
   "execution_count": null,
   "id": "734c2c79",
   "metadata": {},
   "outputs": [],
   "source": []
  }
 ],
 "metadata": {
  "kernelspec": {
   "display_name": "Python 3 (ipykernel)",
   "language": "python",
   "name": "python3"
  },
  "language_info": {
   "codemirror_mode": {
    "name": "ipython",
    "version": 3
   },
   "file_extension": ".py",
   "mimetype": "text/x-python",
   "name": "python",
   "nbconvert_exporter": "python",
   "pygments_lexer": "ipython3",
   "version": "3.8.13"
  }
 },
 "nbformat": 4,
 "nbformat_minor": 5
}
