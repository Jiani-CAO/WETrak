{
 "cells": [
  {
   "cell_type": "code",
   "execution_count": 1,
   "id": "22f53afd",
   "metadata": {},
   "outputs": [
    {
     "name": "stdout",
     "output_type": "stream",
     "text": [
      "importing Jupyter notebook from D:\\WETrak\\branch_adapter\\classification\\classification_data_utils.ipynb\n"
     ]
    }
   ],
   "source": [
    "import sys\n",
    "sys.path.append(\"D:\\\\WETrak\")\n",
    "\n",
    "import os\n",
    "import os.path as path\n",
    "import numpy as np\n",
    "import pandas as pd\n",
    "import json\n",
    "import torch\n",
    "from glob import glob\n",
    "\n",
    "import import_ipynb\n",
    "import branch_adapter.classification.classification_data_utils as data_utils\n",
    "os.environ['KMP_DUPLICATE_LIB_OK']='True'"
   ]
  },
  {
   "cell_type": "code",
   "execution_count": 2,
   "id": "f1da612e",
   "metadata": {},
   "outputs": [],
   "source": [
    "# [0,default]按照classify_num来划分间隔 （每个角度间隔可能不一样）\n",
    "class classification_data(torch.utils.data.Dataset):\n",
    "    # output: \n",
    "    # emg: [batch,1000,2] min,max: [batch, 8*3]\n",
    "    def __init__(self, root_path, user_name, split, finger_type_list,classify_num):\n",
    "        \n",
    "        self.user_name = user_name\n",
    "        self.data_path = path.join(root_path,user_name,split)\n",
    "#         print(\"datapath:\",path.abspath(self.data_path))\n",
    "        \n",
    "        self.finger_type_list = finger_type_list\n",
    "        self.classify_num = classify_num\n",
    "        \n",
    "        self.files = glob(path.join(self.data_path,'*'))\n",
    "        \n",
    "        self.emg_data_list = []\n",
    "        self.leap_data_list = []\n",
    "        \n",
    "        for file_path in self.files:\n",
    "            emg_data = pd.read_csv(path.join(file_path,\"emg_filtered.csv\"),header=None).to_numpy()\n",
    "            \n",
    "            leap_data = json.load(open(path.join(file_path,\"leap_data_processed.json\"),mode='r', encoding='utf-8'))\n",
    "            leap_data_temp = data_utils.parse_leap_all_finger(leap_data,self.finger_type_list) # [1000,N,4]\n",
    "            leap_data = leap_data_temp.reshape(len(leap_data_temp),-1) # [1000,N*4]\n",
    "            \n",
    "            self.emg_data_list.append(emg_data)\n",
    "            self.leap_data_list.append(leap_data)\n",
    "        \n",
    "        # emg normalize z-score \n",
    "        self.emg_data_list = data_utils.emg_z_norm(self.emg_data_list)\n",
    "        # smooth gt\n",
    "        self.leap_data_list = data_utils.smooth_gt(self.leap_data_list,self.finger_type_list)\n",
    "        # 记录每2s窗口的gt的最大值、最小值\n",
    "        min_vals_list,max_vals_list,_ = data_utils.gt_normalize(self.leap_data_list,finger_type_list)\n",
    "        self.min_max_vals = np.concatenate((min_vals_list, max_vals_list), axis=1)\n",
    "\n",
    "    def __len__(self):\n",
    "        return len(self.files)\n",
    "    \n",
    "    def __getitem__(self, idx):\n",
    "        # emg_data[idx]: 1000*2  target[idx]:24\n",
    "        emg_data = self.emg_data_list[idx]\n",
    "        \n",
    "        emg = emg_data.astype(np.float32)\n",
    "        \n",
    "        min_max_data = self.min_max_vals[idx]   \n",
    "        \n",
    "        # 记录min, max所在bin的下标，即哪一类\n",
    "        target,_ = data_utils.min_max_bin_index(min_max_data,self.finger_type_list,self.classify_num)\n",
    "        target = target.astype(np.int64)\n",
    "            \n",
    "        return emg,target\n",
    "\n",
    "    def get_test(self, idx):\n",
    "        return self.__getitem__(idx)"
   ]
  }
 ],
 "metadata": {
  "kernelspec": {
   "display_name": "Python 3 (ipykernel)",
   "language": "python",
   "name": "python3"
  },
  "language_info": {
   "codemirror_mode": {
    "name": "ipython",
    "version": 3
   },
   "file_extension": ".py",
   "mimetype": "text/x-python",
   "name": "python",
   "nbconvert_exporter": "python",
   "pygments_lexer": "ipython3",
   "version": "3.8.13"
  }
 },
 "nbformat": 4,
 "nbformat_minor": 5
}
