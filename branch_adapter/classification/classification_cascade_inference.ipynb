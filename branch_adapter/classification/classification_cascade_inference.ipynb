{
 "cells": [
  {
   "cell_type": "code",
   "execution_count": 1,
   "id": "9acd9d90",
   "metadata": {},
   "outputs": [
    {
     "name": "stdout",
     "output_type": "stream",
     "text": [
      "importing Jupyter notebook from D:\\WETrak\\branch_adapter\\classification\\classification_network.ipynb\n",
      "importing Jupyter notebook from D:\\WETrak\\branch_adapter\\classification\\classification_data.ipynb\n",
      "importing Jupyter notebook from D:\\WETrak\\branch_adapter\\classification\\classification_data_utils.ipynb\n",
      "importing Jupyter notebook from D:\\WETrak\\branch_adapter\\classification\\classification_model_utils.ipynb\n"
     ]
    }
   ],
   "source": [
    "import sys\n",
    "sys.path.append(\"D:\\\\WETrak\")\n",
    "\n",
    "import os\n",
    "import numpy as np\n",
    "import torch\n",
    "from torch.utils.data import DataLoader\n",
    "import torch.nn.functional as F\n",
    "\n",
    "import import_ipynb\n",
    "from branch_adapter.classification.classification_network import CNN_classify\n",
    "from branch_adapter.classification.classification_data import classification_data\n",
    "import branch_adapter.classification.classification_model_utils as utils"
   ]
  },
  {
   "cell_type": "code",
   "execution_count": 2,
   "id": "f9aab19d",
   "metadata": {},
   "outputs": [],
   "source": [
    "def classification_inference(data_path,user_name,runs_dir,classify_num):\n",
    "    finger_type_list = ['Index','Middle','Ring']\n",
    "    # -------------------------------------Gpu Device------------------------------------------------- #\n",
    "    global device\n",
    "    device = torch.device(\"cuda\") if torch.cuda.is_available() else torch.device(\"cpu\")\n",
    "    \n",
    "    # -------------------------------------Model Initialize-------------------------------------------------- #\n",
    "    model = CNN_classify(classify_num=int(classify_num),finger_type=finger_type_list).cuda()\n",
    "    \n",
    "    # -------------------------------------Data Initialize--------------------------------------------------- #\n",
    "    test_set = classification_data(data_path, user_name, \"test\", finger_type_list,classify_num)\n",
    "    test_loader = DataLoader(test_set,batch_size= len(test_set), shuffle = False)\n",
    "    \n",
    "    # -------------------------------------Inference--------------------------------------------------- #\n",
    "    checkpoint_dir = os.path.join(runs_dir, 'checkpoints')\n",
    "    print(\"load classification checkpoingts from {}\".format(os.path.abspath(checkpoint_dir)))\n",
    "    checkpoint = utils.load_checkpoint(os.path.join(checkpoint_dir),\"mean\")\n",
    "    model.load_state_dict(checkpoint['model_state_dict'])\n",
    "    \n",
    "    with torch.no_grad():\n",
    "        model.eval()\n",
    "        for i,(emg,gt) in enumerate(test_loader):\n",
    "            emg = emg.unsqueeze(1)\n",
    "            emg = utils.data_gpu(emg, device)\n",
    "            features, out = model(emg)\n",
    "            \n",
    "            out = F.softmax(out,dim=1)\n",
    "            prob_mse = out.cpu().numpy()\n",
    "            \n",
    "    return prob_mse"
   ]
  },
  {
   "cell_type": "code",
   "execution_count": 3,
   "id": "736e7502",
   "metadata": {},
   "outputs": [],
   "source": [
    "def get_cascade_inference(data_path,output_path,user_name,target):\n",
    "    if target == 15:\n",
    "        \n",
    "        classify_id = {'15':\"15\",\n",
    "                        '5':\"5\",\n",
    "                        '3':\"3\"}\n",
    "\n",
    "        root_dir = os.path.join(output_path,user_name,\"classify\")\n",
    "        runs_dir,prob = {},{}\n",
    "\n",
    "        for key, value in classify_id.items():\n",
    "            runs_dir[key] = os.path.join(root_dir,value)\n",
    "\n",
    "            prob[key] = classification_inference(data_path,user_name,runs_dir[key],int(key))\n",
    "#             print(\"prob[key].shape:\",prob[key].shape)\n",
    "        \n",
    "        prob_15,prob_5,prob_3 = prob['15'],prob['5'],prob['3']\n",
    "        new_prob_15,new_prob_5,new_prob_3 = np.zeros(prob_15.shape),np.zeros(prob_15.shape),np.zeros(prob_15.shape)\n",
    "\n",
    "        sub_target = 5\n",
    "        interval = int(target/sub_target)\n",
    "        for i in range(sub_target):\n",
    "            new_prob_5[:, i*interval:i*interval+interval, :] = prob_5[:,i:i+1,:]\n",
    "\n",
    "        sub_target = 3\n",
    "        interval = int(target/sub_target)\n",
    "        for i in range(sub_target):\n",
    "            new_prob_3[:, i*interval:i*interval+interval, :] = prob_3[:,i:i+1,:]\n",
    "\n",
    "        new_prob_15 = prob_15 + new_prob_5 + new_prob_3\n",
    "        new_prob_15 = torch.tensor(new_prob_15)\n",
    "        _, tags = torch.max(new_prob_15, dim = 1)\n",
    "        \n",
    "    return tags"
   ]
  }
 ],
 "metadata": {
  "kernelspec": {
   "display_name": "Python 3 (ipykernel)",
   "language": "python",
   "name": "python3"
  },
  "language_info": {
   "codemirror_mode": {
    "name": "ipython",
    "version": 3
   },
   "file_extension": ".py",
   "mimetype": "text/x-python",
   "name": "python",
   "nbconvert_exporter": "python",
   "pygments_lexer": "ipython3",
   "version": "3.8.13"
  }
 },
 "nbformat": 4,
 "nbformat_minor": 5
}
