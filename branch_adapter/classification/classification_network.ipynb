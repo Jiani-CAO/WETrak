{
 "cells": [
  {
   "cell_type": "code",
   "execution_count": 1,
   "id": "a3c1141f",
   "metadata": {},
   "outputs": [],
   "source": [
    "import sys\n",
    "sys.path.append(\"D:\\\\WETrak\")\n",
    "\n",
    "import torch.nn as nn"
   ]
  },
  {
   "cell_type": "code",
   "execution_count": 2,
   "id": "35f2b590",
   "metadata": {},
   "outputs": [],
   "source": [
    "class CNN_classify(nn.Module):\n",
    "    def __init__(self,emg_channel=5,p=0.1,channel=32,classify_num=0, finger_type=[]):\n",
    "        super(CNN_classify,self).__init__()\n",
    "        \n",
    "        self.classify_num = classify_num\n",
    "        self.emg_channel = emg_channel\n",
    "        self.output_size = 8*classify_num*len(finger_type) # C*24\n",
    "        \n",
    "        if self.emg_channel == 2:\n",
    "            max_pool_paras = ((5,2),(4,1),(2,1))\n",
    "        elif self.emg_channel == 5:\n",
    "            max_pool_paras = ((5,2),(4,2),(2,1))\n",
    "        \n",
    "        # downsample\n",
    "        # kernel_size: 3*3\n",
    "        self.down_block1 = nn.Sequential(nn.Conv2d(1, channel, 3, padding=1), nn.BatchNorm2d(channel), nn.ReLU(True), nn.Dropout(p=p), nn.MaxPool2d(max_pool_paras[0], stride=max_pool_paras[0]))\n",
    "        self.down_block2 = nn.Sequential(nn.Conv2d(channel, channel*4, 3, padding=1), nn.BatchNorm2d(channel*4), nn.ReLU(True), nn.Dropout(p=p), nn.MaxPool2d(max_pool_paras[1], stride=max_pool_paras[1]))\n",
    "        self.down_block3 = nn.Sequential(nn.Conv2d(channel*4, channel*8, 3, padding=1), nn.BatchNorm2d(channel*8), nn.ReLU(True), nn.Dropout(p=p), nn.MaxPool2d(max_pool_paras[2], stride=max_pool_paras[2]))\n",
    "        \n",
    "        # upsample\n",
    "        # kernel_size: 3*3\n",
    "        self.up_blcok1 = nn.Sequential(nn.Conv2d(channel*8, channel*4, 3, padding=1), nn.BatchNorm2d(channel*4), nn.ReLU(True), nn.Dropout(p=p), nn.Upsample(scale_factor=(5,2)))\n",
    "        self.up_blcok2 = nn.Sequential(nn.Conv2d(channel*4, channel, 3, padding=1), nn.BatchNorm2d(channel), nn.ReLU(True), nn.Dropout(p=p), nn.Upsample(scale_factor=(4,2)))\n",
    "        self.up_blcok3 = nn.Sequential(nn.Conv2d(channel, 1, 3, padding=1),nn.BatchNorm2d(1),nn.ReLU(True),nn.Dropout(p=p),nn.Upsample(scale_factor=(2,len(finger_type))))\n",
    "        \n",
    "        self.fc_block = nn.Sequential(nn.Flatten(),nn.Linear(in_features=1000*4*len(finger_type), out_features=self.output_size),nn.ReLU(True))\n",
    "        \n",
    "        # initialize weights\n",
    "        self._initialize_weights()\n",
    "        \n",
    "    def forward(self,x):\n",
    "        # downsample\n",
    "        x = self.down_block1(x) # [batch, 32, 200, 1]\n",
    "        x = self.down_block2(x) # [batch, 128, 50, 1]\n",
    "        x = self.down_block3(x) # [batch, 256, 25, 1]\n",
    "        \n",
    "        # upsample\n",
    "        x = self.up_blcok1(x) # [batch, 128, 125, 4]\n",
    "        x = self.up_blcok2(x) # [batch, 32, 500, 4]\n",
    "        x = self.up_blcok3(x)\n",
    "        \n",
    "        feature = x # [batch, 1, 1000, 12]\n",
    "        feature = feature.view(feature.shape[0],24,500)\n",
    "        \n",
    "        x = self.fc_block(x)\n",
    "        out = x.view(-1, self.classify_num, int(self.output_size/self.classify_num))\n",
    "        \n",
    "        return feature,out\n",
    "    \n",
    "    def _initialize_weights(self):\n",
    "        for m in self.modules():\n",
    "            if isinstance(m, nn.Conv2d):\n",
    "                nn.init.kaiming_normal_(m.weight, mode='fan_out', nonlinearity='relu')\n",
    "                if m.bias is not None:\n",
    "                    nn.init.constant_(m.bias, 0)\n",
    "            elif isinstance(m, nn.BatchNorm2d):\n",
    "                nn.init.constant_(m.weight, 1)\n",
    "                nn.init.constant_(m.bias, 0)\n",
    "            elif isinstance(m, nn.Linear):\n",
    "                nn.init.normal_(m.weight, 0, 0.01)\n",
    "                nn.init.constant_(m.bias, 0)"
   ]
  }
 ],
 "metadata": {
  "kernelspec": {
   "display_name": "Python 3 (ipykernel)",
   "language": "python",
   "name": "python3"
  },
  "language_info": {
   "codemirror_mode": {
    "name": "ipython",
    "version": 3
   },
   "file_extension": ".py",
   "mimetype": "text/x-python",
   "name": "python",
   "nbconvert_exporter": "python",
   "pygments_lexer": "ipython3",
   "version": "3.8.13"
  }
 },
 "nbformat": 4,
 "nbformat_minor": 5
}
