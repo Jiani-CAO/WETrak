{
 "cells": [
  {
   "cell_type": "code",
   "execution_count": null,
   "id": "12357ac2",
   "metadata": {},
   "outputs": [],
   "source": [
    "import sys\n",
    "sys.path.append(\"D:\\\\WETrak\")\n",
    "\n",
    "import os\n",
    "import configparser\n",
    "import numpy as np\n",
    "import torch\n",
    "from torch.utils.data import DataLoader\n",
    "\n",
    "import import_ipynb\n",
    "import branch_adapter.classification.classification_model_utils as utils\n",
    "from branch_adapter.classification.classification_loss import DistanceLoss\n",
    "from branch_adapter.classification.classification_network import CNN_classify\n",
    "from branch_adapter.classification.classification_data import classification_data"
   ]
  },
  {
   "cell_type": "code",
   "execution_count": null,
   "id": "f3d88b49",
   "metadata": {},
   "outputs": [],
   "source": [
    "def train_epoch(model,train_loader,epoch,optimizer,lr,classify_num):\n",
    "    losses,errors = utils.AverageMeter(),utils.AverageMeter()  \n",
    "        \n",
    "    model.train()\n",
    "    \n",
    "    for i,(emg,gt) in enumerate(train_loader):\n",
    "        emg = emg.unsqueeze(1)\n",
    "        emg = utils.data_gpu(emg, device)\n",
    "        gt = utils.data_gpu(gt, device)\n",
    "    \n",
    "        features, out = model(emg)\n",
    "\n",
    "        loss_cl = DistanceLoss(num_classes=classify_num)\n",
    "        loss = loss_cl(features,out,gt)\n",
    "        \n",
    "        optimizer.zero_grad()\n",
    "        loss.backward()\n",
    "        optimizer.step()\n",
    "        \n",
    "        losses.update(loss.item())\n",
    "        \n",
    "        error = utils.multi_acc(gt, out)\n",
    "        errors.update(error.item())"
   ]
  },
  {
   "cell_type": "code",
   "execution_count": null,
   "id": "46d279b5",
   "metadata": {
    "scrolled": true
   },
   "outputs": [],
   "source": [
    "def main(user_name,classify_num,config):\n",
    "    \n",
    "    data_path = config['main']['data_path']\n",
    "    output_path = config['main']['output_path']\n",
    "    \n",
    "    EPOCHS = int(config['Classification']['epochs'])\n",
    "    BATCH_SIZE = int(config['Classification']['batch_size'])\n",
    "    lr = float(config['Classification']['learning_rate'])\n",
    "    \n",
    "    finger_type_list = ['Index','Middle','Ring']\n",
    "    # -------------------------------------Save Dir initialization----------------------------------------------------- #\n",
    "    runs_dir = os.path.join(output_path, user_name, \"classify\", str(classify_num))\n",
    "    save_dir = os.path.join(runs_dir,'checkpoints')\n",
    "    for t in (runs_dir,save_dir):\n",
    "        if not(os.path.isdir(t)): os.makedirs(t)\n",
    "    print(\"runs_dir\",os.path.abspath(runs_dir))\n",
    "\n",
    "    # -------------------------------------Gpu Device && Tensorboard--------------------------------------------------- #\n",
    "    global device\n",
    "    device = torch.device(\"cuda\") if torch.cuda.is_available() else torch.device(\"cpu\")\n",
    "\n",
    "    # -------------------------------------Model and Optim Initialize-------------------------------------------------- #\n",
    "    model = CNN_classify(classify_num=classify_num,finger_type=finger_type_list).cuda()\n",
    "    # weight_decay: L2 penalty\n",
    "    optimizer = torch.optim.Adam(model.parameters(),lr = lr, weight_decay=0.0005)\n",
    "\n",
    "    # -------------------------------------Data Initialize--------------------------------------------------- #\n",
    "    train_set = classification_data(data_path, user_name, \"train\", finger_type_list,classify_num)\n",
    "    train_loader = DataLoader(train_set,batch_size= BATCH_SIZE,shuffle = True)\n",
    "\n",
    "    # -------------------------------------Training--------------------------------------------------- #\n",
    "    for epoch in range(EPOCHS): \n",
    "        train_epoch(model,train_loader,epoch,optimizer,lr,classify_num)\n",
    "\n",
    "        if epoch%2 == 0:\n",
    "            # save newest model:\n",
    "            utils.save_checkpoint({'epoch': epoch, 'model_state_dict':model.state_dict(),\n",
    "                'optimizer_state_dict':optimizer.state_dict(),'error':best_avg_error},save_dir,flag=\"newest\")"
   ]
  },
  {
   "cell_type": "code",
   "execution_count": null,
   "id": "9324f10f",
   "metadata": {
    "scrolled": true
   },
   "outputs": [],
   "source": [
    "user_name = \"user1\"\n",
    "classify_num_list = [15,5,3]\n",
    "\n",
    "# Read configuration\n",
    "config = configparser.ConfigParser()\n",
    "config.read('D:\\\\WETrak\\\\config.ini')\n",
    "\n",
    "for classify_num in classify_num_list:\n",
    "    main(user_name,classify_num,config)"
   ]
  }
 ],
 "metadata": {
  "kernelspec": {
   "display_name": "Python 3 (ipykernel)",
   "language": "python",
   "name": "python3"
  },
  "language_info": {
   "codemirror_mode": {
    "name": "ipython",
    "version": 3
   },
   "file_extension": ".py",
   "mimetype": "text/x-python",
   "name": "python",
   "nbconvert_exporter": "python",
   "pygments_lexer": "ipython3",
   "version": "3.8.13"
  }
 },
 "nbformat": 4,
 "nbformat_minor": 5
}
