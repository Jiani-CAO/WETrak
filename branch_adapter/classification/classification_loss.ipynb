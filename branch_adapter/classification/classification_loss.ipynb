{
 "cells": [
  {
   "cell_type": "code",
   "execution_count": 1,
   "id": "c084bfb4",
   "metadata": {},
   "outputs": [],
   "source": [
    "import torch\n",
    "from torch import nn\n",
    "import torch.nn.functional as F"
   ]
  },
  {
   "cell_type": "code",
   "execution_count": 2,
   "id": "1e4c3a28",
   "metadata": {},
   "outputs": [],
   "source": [
    "class DistanceLoss(nn.Module):\n",
    "    def __init__(self, num_classes, feat_d=500,lambda_center_loss=0.5):\n",
    "        super(DistanceLoss, self).__init__()\n",
    "        self.num_classes = num_classes\n",
    "        self.lambda_center_loss = lambda_center_loss\n",
    "        self.softmax_loss = nn.CrossEntropyLoss()\n",
    "        self.centers = nn.Parameter(torch.randn(num_classes, feat_d))\n",
    "\n",
    "    def center_loss(self, features, gt):\n",
    "        batch_size, num_samples = gt.size(0), gt.size(1)\n",
    "        \n",
    "        dist = torch.pow(features - self.centers[gt].to(features.device), 2).sum(dim=-1)\n",
    "        loss = dist.sum() / (batch_size * num_samples)\n",
    "        return loss\n",
    "\n",
    "    def forward(self, features,logits,gt):        \n",
    "        softmax_loss = self.softmax_loss(logits, gt)\n",
    "        \n",
    "        ctr_loss = self.center_loss(features, gt)\n",
    "        \n",
    "        pred = F.softmax(logits,dim=1) #(Minibatch, Classes, 24)\n",
    "        _, y_pred = torch.max(pred, dim = 1) #[Minibatch,24]\n",
    "        mse_loss = torch.mean((y_pred - gt.float()) ** 2)\n",
    "    \n",
    "        total_loss = softmax_loss + self.lambda_center_loss * ctr_loss + mse_loss\n",
    "        \n",
    "        return total_loss"
   ]
  }
 ],
 "metadata": {
  "kernelspec": {
   "display_name": "Python 3 (ipykernel)",
   "language": "python",
   "name": "python3"
  },
  "language_info": {
   "codemirror_mode": {
    "name": "ipython",
    "version": 3
   },
   "file_extension": ".py",
   "mimetype": "text/x-python",
   "name": "python",
   "nbconvert_exporter": "python",
   "pygments_lexer": "ipython3",
   "version": "3.8.13"
  }
 },
 "nbformat": 4,
 "nbformat_minor": 5
}
