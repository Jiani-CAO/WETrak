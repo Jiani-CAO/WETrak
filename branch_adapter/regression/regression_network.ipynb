{
 "cells": [
  {
   "cell_type": "code",
   "execution_count": 1,
   "id": "a3c1141f",
   "metadata": {},
   "outputs": [],
   "source": [
    "import sys\n",
    "sys.path.append(\"D:\\\\WETrak\")\n",
    "\n",
    "import torch.nn as nn"
   ]
  },
  {
   "cell_type": "code",
   "execution_count": 2,
   "id": "92be3661",
   "metadata": {},
   "outputs": [],
   "source": [
    "class MLP_regression(nn.Module):\n",
    "    def __init__(self, emg_channel=5, hidden_size=64, output_size=2*4):\n",
    "        super(MLP_regression, self).__init__()\n",
    "        self.emg_channel = emg_channel\n",
    "        \n",
    "        self.layer1 = nn.Sequential(nn.Linear(1000*emg_channel, hidden_size), \n",
    "                                   nn.ReLU(True), \n",
    "                                   nn.Dropout(p=0.05))\n",
    "        \n",
    "        self.layer2 = nn.Sequential(nn.Linear(hidden_size, hidden_size), \n",
    "                                   nn.ReLU(True), \n",
    "                                   nn.Dropout(p=0.05))\n",
    "        \n",
    "        self.layer3 = nn.Sequential(nn.Linear(hidden_size, output_size), \n",
    "                                   nn.Sigmoid(), \n",
    "                                   nn.Dropout(p=0.05))\n",
    "        \n",
    "        # initialize weights\n",
    "        self._initialize_weights()\n",
    "\n",
    "    def forward(self, x):\n",
    "        # Flatten the input tensor from [Batch, 1000, 2] to [Batch, 2000]\n",
    "        x = x.view(-1, self.emg_channel * 1000)\n",
    "        # Apply fully connected layers\n",
    "        x = self.layer1(x)\n",
    "        x = self.layer2(x)\n",
    "        x = self.layer2(x)\n",
    "        x = self.layer3(x)\n",
    "\n",
    "        return x\n",
    "    \n",
    "    \n",
    "    def _initialize_weights(self):\n",
    "        for m in self.modules():\n",
    "            if isinstance(m, nn.Conv2d):\n",
    "                nn.init.kaiming_normal_(m.weight, mode='fan_out', nonlinearity='relu')\n",
    "                if m.bias is not None:\n",
    "                    nn.init.constant_(m.bias, 0)\n",
    "            elif isinstance(m, nn.BatchNorm2d):\n",
    "                nn.init.constant_(m.weight, 1)\n",
    "                nn.init.constant_(m.bias, 0)\n",
    "            elif isinstance(m, nn.Linear):\n",
    "                nn.init.normal_(m.weight, 0, 0.01)\n",
    "                nn.init.constant_(m.bias, 0)"
   ]
  }
 ],
 "metadata": {
  "kernelspec": {
   "display_name": "Python 3 (ipykernel)",
   "language": "python",
   "name": "python3"
  },
  "language_info": {
   "codemirror_mode": {
    "name": "ipython",
    "version": 3
   },
   "file_extension": ".py",
   "mimetype": "text/x-python",
   "name": "python",
   "nbconvert_exporter": "python",
   "pygments_lexer": "ipython3",
   "version": "3.8.13"
  }
 },
 "nbformat": 4,
 "nbformat_minor": 5
}
