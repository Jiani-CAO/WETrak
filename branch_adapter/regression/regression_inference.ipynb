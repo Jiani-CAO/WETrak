{
 "cells": [
  {
   "cell_type": "code",
   "execution_count": 1,
   "id": "37c3b2e2",
   "metadata": {},
   "outputs": [
    {
     "name": "stdout",
     "output_type": "stream",
     "text": [
      "importing Jupyter notebook from D:\\WETrak\\branch_adapter\\regression\\regression_model_utils.ipynb\n",
      "importing Jupyter notebook from D:\\WETrak\\branch_adapter\\regression\\regression_network.ipynb\n",
      "importing Jupyter notebook from D:\\WETrak\\branch_adapter\\regression\\regression_data.ipynb\n",
      "importing Jupyter notebook from D:\\WETrak\\branch_adapter\\regression\\regression_data_utils.ipynb\n",
      "importing Jupyter notebook from D:\\WETrak\\branch_adapter\\classification\\classification_cascade_inference.ipynb\n",
      "importing Jupyter notebook from D:\\WETrak\\branch_adapter\\classification\\classification_network.ipynb\n",
      "importing Jupyter notebook from D:\\WETrak\\branch_adapter\\classification\\classification_data.ipynb\n",
      "importing Jupyter notebook from D:\\WETrak\\branch_adapter\\classification\\classification_data_utils.ipynb\n",
      "importing Jupyter notebook from D:\\WETrak\\branch_adapter\\classification\\classification_model_utils.ipynb\n"
     ]
    }
   ],
   "source": [
    "import sys\n",
    "sys.path.append(\"D:\\\\WETrak\")\n",
    "\n",
    "import os\n",
    "import torch\n",
    "from torch.utils.data import DataLoader\n",
    "\n",
    "import import_ipynb\n",
    "import branch_adapter.regression.regression_model_utils as utils\n",
    "from branch_adapter.regression.regression_network import MLP_regression\n",
    "from branch_adapter.regression.regression_data import regression_data\n",
    "\n",
    "os.environ['KMP_DUPLICATE_LIB_OK']='True'"
   ]
  },
  {
   "cell_type": "code",
   "execution_count": 2,
   "id": "36e1edd2",
   "metadata": {},
   "outputs": [],
   "source": [
    "def get_regression_inference(data_path,output_path,user_name,split,finger_type_list,classify_num,inference_mode):\n",
    "    \n",
    "    # -------------------------------------Save Dir initialization------------------------------------- #\n",
    "    runs_dir = os.path.join(output_path, user_name,\"regression\",str(classify_num))\n",
    "    checkpoint_dir = os.path.join(runs_dir, 'checkpoints')\n",
    "    print(\"load regression checkpoingts from {}\".format(os.path.abspath(checkpoint_dir)))\n",
    "\n",
    "    # -------------------------------------Gpu Device--------------------------------------------------- #\n",
    "    global device\n",
    "    device = torch.device(\"cuda\") if torch.cuda.is_available() else torch.device(\"cpu\")\n",
    "\n",
    "    # -------------------------------------Model Initialize------------------------------------ #\n",
    "    model = MLP_regression(output_size = 2*4*len(finger_type_list)).cuda()\n",
    "    \n",
    "    # -------------------------------------Data Initialize----------------------------------------- #\n",
    "    test_set = regression_data(data_path, user_name, split, finger_type_list,classify_num,output_path,inference_mode)\n",
    "    test_loader = DataLoader(test_set,batch_size=len(test_set), shuffle = False)\n",
    "    \n",
    "    # -------------------------------------Inference--------------------------------------------------- #\n",
    "    checkpoint = utils.load_checkpoint(os.path.join(checkpoint_dir),\"mean\")\n",
    "    model.load_state_dict(checkpoint['model_state_dict'])\n",
    "\n",
    "    with torch.no_grad():\n",
    "        model.eval()\n",
    "        \n",
    "        for i,(emg,_,bin_lower_limit,bin_upper_limit) in enumerate(test_loader):\n",
    "            emg = utils.data_gpu(emg, device) # [B,1000,2]\n",
    "            out = model(emg) # [B,8]\n",
    "            \n",
    "            out = out.cpu() * (bin_upper_limit-bin_lower_limit)+bin_lower_limit\n",
    "            out = utils.data_gpu(out, device)\n",
    "\n",
    "    pred_min_vals = out[:,:int(out.shape[1]/2)].cpu().numpy()\n",
    "    pred_max_vals = out[:,int(out.shape[1]/2):].cpu().numpy()\n",
    "    \n",
    "    return pred_min_vals,pred_max_vals"
   ]
  },
  {
   "cell_type": "code",
   "execution_count": null,
   "id": "eafd0bc3",
   "metadata": {},
   "outputs": [],
   "source": []
  }
 ],
 "metadata": {
  "kernelspec": {
   "display_name": "Python 3 (ipykernel)",
   "language": "python",
   "name": "python3"
  },
  "language_info": {
   "codemirror_mode": {
    "name": "ipython",
    "version": 3
   },
   "file_extension": ".py",
   "mimetype": "text/x-python",
   "name": "python",
   "nbconvert_exporter": "python",
   "pygments_lexer": "ipython3",
   "version": "3.8.13"
  }
 },
 "nbformat": 4,
 "nbformat_minor": 5
}
