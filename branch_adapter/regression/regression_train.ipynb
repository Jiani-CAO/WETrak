{
 "cells": [
  {
   "cell_type": "code",
   "execution_count": null,
   "id": "12357ac2",
   "metadata": {},
   "outputs": [],
   "source": [
    "import sys\n",
    "sys.path.append(\"D:\\\\WETrak\")\n",
    "\n",
    "import os\n",
    "import configparser\n",
    "import numpy as np\n",
    "import torch\n",
    "from torch.utils.data import DataLoader\n",
    "\n",
    "import import_ipynb\n",
    "import branch_adapter.regression.regression_model_utils as utils\n",
    "from branch_adapter.regression.regression_loss import mse_loss\n",
    "from branch_adapter.regression.regression_network import MLP_regression\n",
    "from branch_adapter.regression.regression_data import regression_data"
   ]
  },
  {
   "cell_type": "code",
   "execution_count": null,
   "id": "f3d88b49",
   "metadata": {},
   "outputs": [],
   "source": [
    "def train_epoch(model,train_loader,epoch,optimizer,lr,finger_type):\n",
    "    losses,errors = utils.AverageMeter(),utils.AverageMeter()    \n",
    "    \n",
    "    model.train()\n",
    "    \n",
    "    for i,(emg,gt_regression,bin_lower_limit,bin_upper_limit) in enumerate(train_loader):\n",
    "        emg = utils.data_gpu(emg, device)\n",
    "        gt = gt_regression * (bin_upper_limit-bin_lower_limit)+bin_lower_limit \n",
    "        gt = utils.data_gpu(gt, device)\n",
    "#         print(\"emg.shape\",emg.shape)\n",
    "#         print(\"gt.shape\",gt.shape)\n",
    "        out = model(emg) \n",
    "        weight = (bin_upper_limit-bin_lower_limit).to(device)\n",
    "        bias = bin_lower_limit.to(device)\n",
    "        out = out * weight + bias\n",
    "#         print(\"out.shape\",out.shape)\n",
    "        \n",
    "        loss = mse_loss(out,gt)\n",
    "        \n",
    "        optimizer.zero_grad()\n",
    "        loss.backward()\n",
    "        optimizer.step()\n",
    "        \n",
    "        error = utils.mean_absolute_error(gt, out)\n",
    "        errors.update(error.item())\n",
    "        losses.update(loss.item())"
   ]
  },
  {
   "cell_type": "code",
   "execution_count": null,
   "id": "0163a880",
   "metadata": {
    "scrolled": true
   },
   "outputs": [],
   "source": [
    "def main(user_name,classify_num,config):\n",
    "    data_path = config['main']['data_path']\n",
    "    output_path = config['main']['output_path']\n",
    "    \n",
    "    EPOCHS = int(config['Regression']['epochs'])\n",
    "    BATCH_SIZE = int(config['Regression']['batch_size'])\n",
    "    lr = float(config['Regression']['learning_rate'])\n",
    "    \n",
    "    finger_type_list = ['Index','Middle','Ring']\n",
    "    # -------------------------------------Save Dir initialization----------------------------------------------------- #\n",
    "    runs_dir = os.path.join(output_path, user_name,\"regression\",str(classify_num))\n",
    "    save_dir = os.path.join(runs_dir,'checkpoints')\n",
    "    for t in (runs_dir,save_dir):\n",
    "        if not(os.path.isdir(t)): os.makedirs(t)\n",
    "    print(\"runs_dir\",os.path.abspath(runs_dir))\n",
    "\n",
    "    # -------------------------------------Gpu Device && Tensorboard--------------------------------------------------- #\n",
    "    global device\n",
    "    device = torch.device(\"cuda\") if torch.cuda.is_available() else torch.device(\"cpu\")\n",
    "\n",
    "    # -------------------------------------Model and Optim Initialize-------------------------------------------------- #\n",
    "    model = MLP_regression(output_size = 2*4*len(finger_type_list)).cuda()\n",
    "    optimizer = torch.optim.Adam(model.parameters(),lr = lr, weight_decay=0.0005)\n",
    "\n",
    "    # -------------------------------------Data Initialize--------------------------------------------------- #\n",
    "    train_set = regression_data(data_path, user_name, \"train\", finger_type_list,classify_num)\n",
    "    train_loader = DataLoader(train_set,batch_size= BATCH_SIZE,shuffle = True)\n",
    "\n",
    "    # -------------------------------------Training--------------------------------------------------- #\n",
    "    for epoch in range(EPOCHS): \n",
    "        train_epoch(model,train_loader,epoch,optimizer,lr,finger_type_list)\n",
    "\n",
    "        if epoch%2 == 0:\n",
    "            # save newest model:\n",
    "            utils.save_checkpoint({'epoch': epoch, 'model_state_dict':model.state_dict(),\n",
    "                'optimizer_state_dict':optimizer.state_dict(),'error':best_avg_error},save_dir,flag=\"newest\")"
   ]
  },
  {
   "cell_type": "code",
   "execution_count": null,
   "id": "550dcd8e",
   "metadata": {},
   "outputs": [],
   "source": [
    "user_name = \"user1\"\n",
    "classify_num = 15\n",
    "\n",
    "# Read configuration\n",
    "config = configparser.ConfigParser()\n",
    "config.read('D:\\\\WETrak\\\\config.ini')\n",
    "\n",
    "main(user_name,classify_num,config)"
   ]
  },
  {
   "cell_type": "code",
   "execution_count": null,
   "id": "2198f188",
   "metadata": {},
   "outputs": [],
   "source": []
  }
 ],
 "metadata": {
  "kernelspec": {
   "display_name": "Python 3 (ipykernel)",
   "language": "python",
   "name": "python3"
  },
  "language_info": {
   "codemirror_mode": {
    "name": "ipython",
    "version": 3
   },
   "file_extension": ".py",
   "mimetype": "text/x-python",
   "name": "python",
   "nbconvert_exporter": "python",
   "pygments_lexer": "ipython3",
   "version": "3.8.13"
  }
 },
 "nbformat": 4,
 "nbformat_minor": 5
}
