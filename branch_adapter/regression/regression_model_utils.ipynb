{
 "cells": [
  {
   "cell_type": "code",
   "execution_count": 1,
   "id": "4494925c",
   "metadata": {},
   "outputs": [],
   "source": [
    "import os\n",
    "import torch\n",
    "import torch.nn.functional as F"
   ]
  },
  {
   "cell_type": "markdown",
   "id": "898b40b1",
   "metadata": {},
   "source": [
    "## 1.Metrics"
   ]
  },
  {
   "cell_type": "code",
   "execution_count": 2,
   "id": "989768ad",
   "metadata": {},
   "outputs": [],
   "source": [
    "def mean_absolute_error(y_true, y_pred):\n",
    "    return torch.mean(torch.abs(y_true - y_pred))"
   ]
  },
  {
   "cell_type": "code",
   "execution_count": 3,
   "id": "e4d09b8f",
   "metadata": {},
   "outputs": [],
   "source": [
    "def mse_error(y_true, y_pred):#y_pred : prob\n",
    "    y_true = y_true.float()\n",
    "    y_pred = y_pred.float()\n",
    "    pred = F.softmax(y_pred,dim=1)\n",
    "    _, y_pred = torch.max(pred, dim = 1)\n",
    "    \n",
    "    error = torch.mean((y_pred - y_true) ** 2)\n",
    "    \n",
    "    return error"
   ]
  },
  {
   "cell_type": "code",
   "execution_count": 4,
   "id": "f28bfb34",
   "metadata": {},
   "outputs": [],
   "source": [
    "def mean_absolute_percentage_error(y_true, y_pred, epsilon=1e-8):\n",
    "    return torch.mean(torch.abs((y_true - y_pred) / (y_true + epsilon))) * 100"
   ]
  },
  {
   "cell_type": "code",
   "execution_count": 5,
   "id": "b2405a4e",
   "metadata": {},
   "outputs": [],
   "source": [
    "def r2_score(y_true, y_pred):\n",
    "    ss_res = torch.sum((y_true - y_pred) ** 2)\n",
    "    ss_tot = torch.sum((y_true - torch.mean(y_true)) ** 2)\n",
    "    r2_score = 1 - ss_res / ss_tot\n",
    "    return r2_score"
   ]
  },
  {
   "cell_type": "markdown",
   "id": "3b4fd963",
   "metadata": {},
   "source": [
    "## 2.Training Helper Functions"
   ]
  },
  {
   "cell_type": "markdown",
   "id": "f630cbaf",
   "metadata": {},
   "source": [
    "### *2.1 Load DATA on GPU*"
   ]
  },
  {
   "cell_type": "code",
   "execution_count": 6,
   "id": "ff3bad03",
   "metadata": {},
   "outputs": [],
   "source": [
    "def data_gpu(data, device):\n",
    "    if isinstance(data, dict):\n",
    "        for k, v in data.items():\n",
    "            if isinstance(v, torch.Tensor):\n",
    "                data[k] = v.detach().to(device,non_blocking=True)\n",
    "\n",
    "    elif isinstance(data, torch.Tensor):\n",
    "        data = data.detach().to(device,non_blocking=True)\n",
    "\n",
    "    return data"
   ]
  },
  {
   "cell_type": "markdown",
   "id": "ef765f80",
   "metadata": {},
   "source": [
    "### *2.2 Checkpoint Saving&Loading*"
   ]
  },
  {
   "cell_type": "code",
   "execution_count": 7,
   "id": "3a5e14b4",
   "metadata": {},
   "outputs": [],
   "source": [
    "def save_checkpoint(state, savepath, flag):\n",
    "    if not os.path.isdir(savepath):\n",
    "        os.makedirs(savepath, 0o777)\n",
    "    if flag == \"mean\":\n",
    "        filename = os.path.join(savepath, \"best_mean_ckpt.pth.tar\")\n",
    "    elif flag == \"median\":\n",
    "        filename = os.path.join(savepath, \"best_median_ckpt.pth.tar\")\n",
    "    elif flag == \"newest\":\n",
    "        filename = os.path.join(savepath, \"newest_ckpt.pth.tar\")\n",
    "    torch.save(state, filename)\n",
    "\n",
    "\n",
    "def load_checkpoint(savepath,flag):\n",
    "    if flag == \"mean\":\n",
    "        filename = os.path.join(savepath, \"best_mean_ckpt.pth.tar\")\n",
    "    elif flag == \"median\":\n",
    "        filename = os.path.join(savepath, \"best_median_ckpt.pth.tar\")\n",
    "    elif flag == \"newest\":\n",
    "        filename = os.path.join(savepath, \"newest_ckpt.pth.tar\")\n",
    "    if not os.path.isfile(filename):\n",
    "        return None\n",
    "    state = torch.load(filename)\n",
    "    return state"
   ]
  },
  {
   "cell_type": "markdown",
   "id": "79271ca4",
   "metadata": {},
   "source": [
    "### *2.3 Log Average Meter*"
   ]
  },
  {
   "cell_type": "code",
   "execution_count": 8,
   "id": "6a01c322",
   "metadata": {},
   "outputs": [],
   "source": [
    "class AverageMeter(object):\n",
    "    \"\"\"Computes and stores the average, median, and current value\"\"\"\n",
    "    def __init__(self):\n",
    "        self.reset()\n",
    "\n",
    "    def reset(self):\n",
    "        self.val = 0\n",
    "        self.avg = 0\n",
    "        self.sum = 0\n",
    "        self.count = 0\n",
    "        self.values = []\n",
    "\n",
    "    def update(self, val, n=1):\n",
    "        self.val = val\n",
    "        self.sum += val * n\n",
    "        self.count += n\n",
    "        self.avg = self.sum / self.count\n",
    "        self.values.extend([val] * n)\n",
    "\n",
    "    def median(self):\n",
    "        sorted_values = sorted(self.values)\n",
    "        n = len(sorted_values)\n",
    "\n",
    "        if n % 2 == 0:  # If there is an even number of elements\n",
    "            middle1 = sorted_values[n // 2 - 1]\n",
    "            middle2 = sorted_values[n // 2]\n",
    "            return (middle1 + middle2) / 2\n",
    "        else:  # If there is an odd number of elements\n",
    "            return sorted_values[n // 2]"
   ]
  },
  {
   "cell_type": "markdown",
   "id": "2e3cc218",
   "metadata": {},
   "source": [
    "### *2.4 Adjust Learning Rate*"
   ]
  },
  {
   "cell_type": "code",
   "execution_count": 9,
   "id": "9cf06925",
   "metadata": {},
   "outputs": [],
   "source": [
    "def adjust_learning_rate(optimizer, base_lr, decay_rate, step_size, epoch):\n",
    "    \"\"\"Set the learning rate to the initial LR decayed by decay_rate(ExpLR)\"\"\"\n",
    "    lr = base_lr * decay_rate**(epoch//step_size)\n",
    "    lr = max(lr, 0.001)\n",
    "    for param_group in optimizer.param_groups:\n",
    "        param_group['lr'] = lr\n",
    "    return lr"
   ]
  },
  {
   "cell_type": "code",
   "execution_count": null,
   "id": "a6c011aa",
   "metadata": {},
   "outputs": [],
   "source": []
  }
 ],
 "metadata": {
  "kernelspec": {
   "display_name": "Python 3 (ipykernel)",
   "language": "python",
   "name": "python3"
  },
  "language_info": {
   "codemirror_mode": {
    "name": "ipython",
    "version": 3
   },
   "file_extension": ".py",
   "mimetype": "text/x-python",
   "name": "python",
   "nbconvert_exporter": "python",
   "pygments_lexer": "ipython3",
   "version": "3.8.13"
  }
 },
 "nbformat": 4,
 "nbformat_minor": 5
}
